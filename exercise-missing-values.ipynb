{
 "cells": [
  {
   "cell_type": "markdown",
   "id": "78ae71cf",
   "metadata": {
    "papermill": {
     "duration": 0.006334,
     "end_time": "2025-05-03T21:27:47.785981",
     "exception": false,
     "start_time": "2025-05-03T21:27:47.779647",
     "status": "completed"
    },
    "tags": []
   },
   "source": [
    "**This notebook is an exercise in the [Intermediate Machine Learning](https://www.kaggle.com/learn/intermediate-machine-learning) course.  You can reference the tutorial at [this link](https://www.kaggle.com/alexisbcook/missing-values).**\n",
    "\n",
    "---\n"
   ]
  },
  {
   "cell_type": "markdown",
   "id": "d988de27",
   "metadata": {
    "papermill": {
     "duration": 0.005122,
     "end_time": "2025-05-03T21:27:47.796787",
     "exception": false,
     "start_time": "2025-05-03T21:27:47.791665",
     "status": "completed"
    },
    "tags": []
   },
   "source": [
    "Now it's your turn to test your new knowledge of **missing values** handling. You'll probably find it makes a big difference.\n",
    "\n",
    "# Setup\n",
    "\n",
    "The questions will give you feedback on your work. Run the following cell to set up the feedback system."
   ]
  },
  {
   "cell_type": "code",
   "execution_count": 1,
   "id": "8b4170fa",
   "metadata": {
    "execution": {
     "iopub.execute_input": "2025-05-03T21:27:47.809918Z",
     "iopub.status.busy": "2025-05-03T21:27:47.809628Z",
     "iopub.status.idle": "2025-05-03T21:27:49.644175Z",
     "shell.execute_reply": "2025-05-03T21:27:49.643171Z"
    },
    "papermill": {
     "duration": 1.842367,
     "end_time": "2025-05-03T21:27:49.645706",
     "exception": false,
     "start_time": "2025-05-03T21:27:47.803339",
     "status": "completed"
    },
    "tags": []
   },
   "outputs": [
    {
     "name": "stdout",
     "output_type": "stream",
     "text": [
      "Setup Complete\n"
     ]
    }
   ],
   "source": [
    "# Set up code checking\n",
    "import os\n",
    "if not os.path.exists(\"../input/train.csv\"):\n",
    "    os.symlink(\"../input/home-data-for-ml-course/train.csv\", \"../input/train.csv\")  \n",
    "    os.symlink(\"../input/home-data-for-ml-course/test.csv\", \"../input/test.csv\") \n",
    "from learntools.core import binder\n",
    "binder.bind(globals())\n",
    "from learntools.ml_intermediate.ex2 import *\n",
    "print(\"Setup Complete\")"
   ]
  },
  {
   "cell_type": "markdown",
   "id": "0d726c04",
   "metadata": {
    "papermill": {
     "duration": 0.005298,
     "end_time": "2025-05-03T21:27:49.656859",
     "exception": false,
     "start_time": "2025-05-03T21:27:49.651561",
     "status": "completed"
    },
    "tags": []
   },
   "source": [
    "In this exercise, you will work with data from the [Housing Prices Competition for Kaggle Learn Users](https://www.kaggle.com/c/home-data-for-ml-course). \n",
    "\n",
    "![Ames Housing dataset image](https://storage.googleapis.com/kaggle-media/learn/images/lTJVG4e.png)\n",
    "\n",
    "Run the next code cell without changes to load the training and validation sets in `X_train`, `X_valid`, `y_train`, and `y_valid`.  The test set is loaded in `X_test`."
   ]
  },
  {
   "cell_type": "code",
   "execution_count": 2,
   "id": "9cd91267",
   "metadata": {
    "execution": {
     "iopub.execute_input": "2025-05-03T21:27:49.669258Z",
     "iopub.status.busy": "2025-05-03T21:27:49.668768Z",
     "iopub.status.idle": "2025-05-03T21:27:51.286248Z",
     "shell.execute_reply": "2025-05-03T21:27:51.285370Z"
    },
    "papermill": {
     "duration": 1.625447,
     "end_time": "2025-05-03T21:27:51.287867",
     "exception": false,
     "start_time": "2025-05-03T21:27:49.662420",
     "status": "completed"
    },
    "tags": []
   },
   "outputs": [],
   "source": [
    "import pandas as pd\n",
    "from sklearn.model_selection import train_test_split\n",
    "\n",
    "# Read the data\n",
    "X_full = pd.read_csv('../input/train.csv', index_col='Id')\n",
    "X_test_full = pd.read_csv('../input/test.csv', index_col='Id')\n",
    "\n",
    "# Remove rows with missing target, separate target from predictors\n",
    "X_full.dropna(axis=0, subset=['SalePrice'], inplace=True)\n",
    "y = X_full.SalePrice\n",
    "X_full.drop(['SalePrice'], axis=1, inplace=True)\n",
    "\n",
    "# To keep things simple, we'll use only numerical predictors\n",
    "X = X_full.select_dtypes(exclude=['object'])\n",
    "X_test = X_test_full.select_dtypes(exclude=['object'])\n",
    "\n",
    "# Break off validation set from training data\n",
    "X_train, X_valid, y_train, y_valid = train_test_split(X, y, train_size=0.8, test_size=0.2,\n",
    "                                                      random_state=0)"
   ]
  },
  {
   "cell_type": "markdown",
   "id": "a1a5a9fb",
   "metadata": {
    "papermill": {
     "duration": 0.005327,
     "end_time": "2025-05-03T21:27:51.299888",
     "exception": false,
     "start_time": "2025-05-03T21:27:51.294561",
     "status": "completed"
    },
    "tags": []
   },
   "source": [
    "Use the next code cell to print the first five rows of the data."
   ]
  },
  {
   "cell_type": "code",
   "execution_count": 3,
   "id": "7e2850fe",
   "metadata": {
    "execution": {
     "iopub.execute_input": "2025-05-03T21:27:51.312625Z",
     "iopub.status.busy": "2025-05-03T21:27:51.312344Z",
     "iopub.status.idle": "2025-05-03T21:27:51.341506Z",
     "shell.execute_reply": "2025-05-03T21:27:51.340515Z"
    },
    "papermill": {
     "duration": 0.037241,
     "end_time": "2025-05-03T21:27:51.343196",
     "exception": false,
     "start_time": "2025-05-03T21:27:51.305955",
     "status": "completed"
    },
    "tags": []
   },
   "outputs": [
    {
     "name": "stderr",
     "output_type": "stream",
     "text": [
      "/usr/local/lib/python3.11/dist-packages/pandas/io/formats/format.py:1458: RuntimeWarning: invalid value encountered in greater\n",
      "  has_large_values = (abs_vals > 1e6).any()\n",
      "/usr/local/lib/python3.11/dist-packages/pandas/io/formats/format.py:1459: RuntimeWarning: invalid value encountered in less\n",
      "  has_small_values = ((abs_vals < 10 ** (-self.digits)) & (abs_vals > 0)).any()\n",
      "/usr/local/lib/python3.11/dist-packages/pandas/io/formats/format.py:1459: RuntimeWarning: invalid value encountered in greater\n",
      "  has_small_values = ((abs_vals < 10 ** (-self.digits)) & (abs_vals > 0)).any()\n",
      "/usr/local/lib/python3.11/dist-packages/pandas/io/formats/format.py:1458: RuntimeWarning: invalid value encountered in greater\n",
      "  has_large_values = (abs_vals > 1e6).any()\n",
      "/usr/local/lib/python3.11/dist-packages/pandas/io/formats/format.py:1459: RuntimeWarning: invalid value encountered in less\n",
      "  has_small_values = ((abs_vals < 10 ** (-self.digits)) & (abs_vals > 0)).any()\n",
      "/usr/local/lib/python3.11/dist-packages/pandas/io/formats/format.py:1459: RuntimeWarning: invalid value encountered in greater\n",
      "  has_small_values = ((abs_vals < 10 ** (-self.digits)) & (abs_vals > 0)).any()\n"
     ]
    },
    {
     "data": {
      "text/html": [
       "<div>\n",
       "<style scoped>\n",
       "    .dataframe tbody tr th:only-of-type {\n",
       "        vertical-align: middle;\n",
       "    }\n",
       "\n",
       "    .dataframe tbody tr th {\n",
       "        vertical-align: top;\n",
       "    }\n",
       "\n",
       "    .dataframe thead th {\n",
       "        text-align: right;\n",
       "    }\n",
       "</style>\n",
       "<table border=\"1\" class=\"dataframe\">\n",
       "  <thead>\n",
       "    <tr style=\"text-align: right;\">\n",
       "      <th></th>\n",
       "      <th>MSSubClass</th>\n",
       "      <th>LotFrontage</th>\n",
       "      <th>LotArea</th>\n",
       "      <th>OverallQual</th>\n",
       "      <th>OverallCond</th>\n",
       "      <th>YearBuilt</th>\n",
       "      <th>YearRemodAdd</th>\n",
       "      <th>MasVnrArea</th>\n",
       "      <th>BsmtFinSF1</th>\n",
       "      <th>BsmtFinSF2</th>\n",
       "      <th>...</th>\n",
       "      <th>GarageArea</th>\n",
       "      <th>WoodDeckSF</th>\n",
       "      <th>OpenPorchSF</th>\n",
       "      <th>EnclosedPorch</th>\n",
       "      <th>3SsnPorch</th>\n",
       "      <th>ScreenPorch</th>\n",
       "      <th>PoolArea</th>\n",
       "      <th>MiscVal</th>\n",
       "      <th>MoSold</th>\n",
       "      <th>YrSold</th>\n",
       "    </tr>\n",
       "    <tr>\n",
       "      <th>Id</th>\n",
       "      <th></th>\n",
       "      <th></th>\n",
       "      <th></th>\n",
       "      <th></th>\n",
       "      <th></th>\n",
       "      <th></th>\n",
       "      <th></th>\n",
       "      <th></th>\n",
       "      <th></th>\n",
       "      <th></th>\n",
       "      <th></th>\n",
       "      <th></th>\n",
       "      <th></th>\n",
       "      <th></th>\n",
       "      <th></th>\n",
       "      <th></th>\n",
       "      <th></th>\n",
       "      <th></th>\n",
       "      <th></th>\n",
       "      <th></th>\n",
       "      <th></th>\n",
       "    </tr>\n",
       "  </thead>\n",
       "  <tbody>\n",
       "    <tr>\n",
       "      <th>619</th>\n",
       "      <td>20</td>\n",
       "      <td>90.0</td>\n",
       "      <td>11694</td>\n",
       "      <td>9</td>\n",
       "      <td>5</td>\n",
       "      <td>2007</td>\n",
       "      <td>2007</td>\n",
       "      <td>452.0</td>\n",
       "      <td>48</td>\n",
       "      <td>0</td>\n",
       "      <td>...</td>\n",
       "      <td>774</td>\n",
       "      <td>0</td>\n",
       "      <td>108</td>\n",
       "      <td>0</td>\n",
       "      <td>0</td>\n",
       "      <td>260</td>\n",
       "      <td>0</td>\n",
       "      <td>0</td>\n",
       "      <td>7</td>\n",
       "      <td>2007</td>\n",
       "    </tr>\n",
       "    <tr>\n",
       "      <th>871</th>\n",
       "      <td>20</td>\n",
       "      <td>60.0</td>\n",
       "      <td>6600</td>\n",
       "      <td>5</td>\n",
       "      <td>5</td>\n",
       "      <td>1962</td>\n",
       "      <td>1962</td>\n",
       "      <td>0.0</td>\n",
       "      <td>0</td>\n",
       "      <td>0</td>\n",
       "      <td>...</td>\n",
       "      <td>308</td>\n",
       "      <td>0</td>\n",
       "      <td>0</td>\n",
       "      <td>0</td>\n",
       "      <td>0</td>\n",
       "      <td>0</td>\n",
       "      <td>0</td>\n",
       "      <td>0</td>\n",
       "      <td>8</td>\n",
       "      <td>2009</td>\n",
       "    </tr>\n",
       "    <tr>\n",
       "      <th>93</th>\n",
       "      <td>30</td>\n",
       "      <td>80.0</td>\n",
       "      <td>13360</td>\n",
       "      <td>5</td>\n",
       "      <td>7</td>\n",
       "      <td>1921</td>\n",
       "      <td>2006</td>\n",
       "      <td>0.0</td>\n",
       "      <td>713</td>\n",
       "      <td>0</td>\n",
       "      <td>...</td>\n",
       "      <td>432</td>\n",
       "      <td>0</td>\n",
       "      <td>0</td>\n",
       "      <td>44</td>\n",
       "      <td>0</td>\n",
       "      <td>0</td>\n",
       "      <td>0</td>\n",
       "      <td>0</td>\n",
       "      <td>8</td>\n",
       "      <td>2009</td>\n",
       "    </tr>\n",
       "    <tr>\n",
       "      <th>818</th>\n",
       "      <td>20</td>\n",
       "      <td>NaN</td>\n",
       "      <td>13265</td>\n",
       "      <td>8</td>\n",
       "      <td>5</td>\n",
       "      <td>2002</td>\n",
       "      <td>2002</td>\n",
       "      <td>148.0</td>\n",
       "      <td>1218</td>\n",
       "      <td>0</td>\n",
       "      <td>...</td>\n",
       "      <td>857</td>\n",
       "      <td>150</td>\n",
       "      <td>59</td>\n",
       "      <td>0</td>\n",
       "      <td>0</td>\n",
       "      <td>0</td>\n",
       "      <td>0</td>\n",
       "      <td>0</td>\n",
       "      <td>7</td>\n",
       "      <td>2008</td>\n",
       "    </tr>\n",
       "    <tr>\n",
       "      <th>303</th>\n",
       "      <td>20</td>\n",
       "      <td>118.0</td>\n",
       "      <td>13704</td>\n",
       "      <td>7</td>\n",
       "      <td>5</td>\n",
       "      <td>2001</td>\n",
       "      <td>2002</td>\n",
       "      <td>150.0</td>\n",
       "      <td>0</td>\n",
       "      <td>0</td>\n",
       "      <td>...</td>\n",
       "      <td>843</td>\n",
       "      <td>468</td>\n",
       "      <td>81</td>\n",
       "      <td>0</td>\n",
       "      <td>0</td>\n",
       "      <td>0</td>\n",
       "      <td>0</td>\n",
       "      <td>0</td>\n",
       "      <td>1</td>\n",
       "      <td>2006</td>\n",
       "    </tr>\n",
       "  </tbody>\n",
       "</table>\n",
       "<p>5 rows × 36 columns</p>\n",
       "</div>"
      ],
      "text/plain": [
       "     MSSubClass  LotFrontage  LotArea  OverallQual  OverallCond  YearBuilt  \\\n",
       "Id                                                                           \n",
       "619          20         90.0    11694            9            5       2007   \n",
       "871          20         60.0     6600            5            5       1962   \n",
       "93           30         80.0    13360            5            7       1921   \n",
       "818          20          NaN    13265            8            5       2002   \n",
       "303          20        118.0    13704            7            5       2001   \n",
       "\n",
       "     YearRemodAdd  MasVnrArea  BsmtFinSF1  BsmtFinSF2  ...  GarageArea  \\\n",
       "Id                                                     ...               \n",
       "619          2007       452.0          48           0  ...         774   \n",
       "871          1962         0.0           0           0  ...         308   \n",
       "93           2006         0.0         713           0  ...         432   \n",
       "818          2002       148.0        1218           0  ...         857   \n",
       "303          2002       150.0           0           0  ...         843   \n",
       "\n",
       "     WoodDeckSF  OpenPorchSF  EnclosedPorch  3SsnPorch  ScreenPorch  PoolArea  \\\n",
       "Id                                                                              \n",
       "619           0          108              0          0          260         0   \n",
       "871           0            0              0          0            0         0   \n",
       "93            0            0             44          0            0         0   \n",
       "818         150           59              0          0            0         0   \n",
       "303         468           81              0          0            0         0   \n",
       "\n",
       "     MiscVal  MoSold  YrSold  \n",
       "Id                            \n",
       "619        0       7    2007  \n",
       "871        0       8    2009  \n",
       "93         0       8    2009  \n",
       "818        0       7    2008  \n",
       "303        0       1    2006  \n",
       "\n",
       "[5 rows x 36 columns]"
      ]
     },
     "execution_count": 3,
     "metadata": {},
     "output_type": "execute_result"
    }
   ],
   "source": [
    "X_train.head()"
   ]
  },
  {
   "cell_type": "markdown",
   "id": "19d471bb",
   "metadata": {
    "papermill": {
     "duration": 0.006025,
     "end_time": "2025-05-03T21:27:51.355767",
     "exception": false,
     "start_time": "2025-05-03T21:27:51.349742",
     "status": "completed"
    },
    "tags": []
   },
   "source": [
    "You can already see a few missing values in the first several rows.  In the next step, you'll obtain a more comprehensive understanding of the missing values in the dataset.\n",
    "\n",
    "# Step 1: Preliminary investigation\n",
    "\n",
    "Run the code cell below without changes."
   ]
  },
  {
   "cell_type": "code",
   "execution_count": 4,
   "id": "804fb3ac",
   "metadata": {
    "execution": {
     "iopub.execute_input": "2025-05-03T21:27:51.369158Z",
     "iopub.status.busy": "2025-05-03T21:27:51.368797Z",
     "iopub.status.idle": "2025-05-03T21:27:51.375825Z",
     "shell.execute_reply": "2025-05-03T21:27:51.374980Z"
    },
    "papermill": {
     "duration": 0.015408,
     "end_time": "2025-05-03T21:27:51.377277",
     "exception": false,
     "start_time": "2025-05-03T21:27:51.361869",
     "status": "completed"
    },
    "tags": []
   },
   "outputs": [
    {
     "name": "stdout",
     "output_type": "stream",
     "text": [
      "(1168, 36)\n",
      "LotFrontage    212\n",
      "MasVnrArea       6\n",
      "GarageYrBlt     58\n",
      "dtype: int64\n"
     ]
    }
   ],
   "source": [
    "# Shape of training data (num_rows, num_columns)\n",
    "print(X_train.shape)\n",
    "\n",
    "# Number of missing values in each column of training data\n",
    "missing_val_count_by_column = (X_train.isnull().sum())\n",
    "print(missing_val_count_by_column[missing_val_count_by_column > 0])"
   ]
  },
  {
   "cell_type": "markdown",
   "id": "edd973c3",
   "metadata": {
    "papermill": {
     "duration": 0.005754,
     "end_time": "2025-05-03T21:27:51.389234",
     "exception": false,
     "start_time": "2025-05-03T21:27:51.383480",
     "status": "completed"
    },
    "tags": []
   },
   "source": [
    "### Part A\n",
    "\n",
    "Use the above output to answer the questions below."
   ]
  },
  {
   "cell_type": "code",
   "execution_count": 5,
   "id": "27d75f28",
   "metadata": {
    "execution": {
     "iopub.execute_input": "2025-05-03T21:27:51.402584Z",
     "iopub.status.busy": "2025-05-03T21:27:51.402305Z",
     "iopub.status.idle": "2025-05-03T21:27:51.409341Z",
     "shell.execute_reply": "2025-05-03T21:27:51.408550Z"
    },
    "papermill": {
     "duration": 0.015301,
     "end_time": "2025-05-03T21:27:51.410608",
     "exception": false,
     "start_time": "2025-05-03T21:27:51.395307",
     "status": "completed"
    },
    "tags": []
   },
   "outputs": [
    {
     "data": {
      "application/javascript": [
       "parent.postMessage({\"jupyterEvent\": \"custom.exercise_interaction\", \"data\": {\"outcomeType\": 1, \"valueTowardsCompletion\": 1.0, \"interactionType\": 1, \"questionType\": 1, \"questionId\": \"1.1_InvestigateEquality\", \"learnToolsVersion\": \"0.3.5\", \"failureMessage\": \"\", \"exceptionClass\": \"\", \"trace\": \"\"}}, \"*\")"
      ],
      "text/plain": [
       "<IPython.core.display.Javascript object>"
      ]
     },
     "metadata": {},
     "output_type": "display_data"
    },
    {
     "data": {
      "text/markdown": [
       "<span style=\"color:#33cc33\">Correct</span>"
      ],
      "text/plain": [
       "Correct"
      ]
     },
     "metadata": {},
     "output_type": "display_data"
    }
   ],
   "source": [
    "# Fill in the line below: How many rows are in the training data?\n",
    "num_rows = 1168\n",
    "\n",
    "# Fill in the line below: How many columns in the training data\n",
    "# have missing values?\n",
    "num_cols_with_missing = 3\n",
    "\n",
    "# Fill in the line below: How many missing entries are contained in \n",
    "# all of the training data?\n",
    "tot_missing = 212 + 6 + 58\n",
    "\n",
    "# Check your answers\n",
    "step_1.a.check()"
   ]
  },
  {
   "cell_type": "code",
   "execution_count": 6,
   "id": "bc8d40cb",
   "metadata": {
    "execution": {
     "iopub.execute_input": "2025-05-03T21:27:51.424981Z",
     "iopub.status.busy": "2025-05-03T21:27:51.424668Z",
     "iopub.status.idle": "2025-05-03T21:27:51.428349Z",
     "shell.execute_reply": "2025-05-03T21:27:51.427512Z"
    },
    "papermill": {
     "duration": 0.012541,
     "end_time": "2025-05-03T21:27:51.429630",
     "exception": false,
     "start_time": "2025-05-03T21:27:51.417089",
     "status": "completed"
    },
    "tags": []
   },
   "outputs": [],
   "source": [
    "# Lines below will give you a hint or solution code\n",
    "#step_1.a.hint()\n",
    "#step_1.a.solution()"
   ]
  },
  {
   "cell_type": "markdown",
   "id": "f0736d0a",
   "metadata": {
    "papermill": {
     "duration": 0.00649,
     "end_time": "2025-05-03T21:27:51.442679",
     "exception": false,
     "start_time": "2025-05-03T21:27:51.436189",
     "status": "completed"
    },
    "tags": []
   },
   "source": [
    "### Part B\n",
    "Considering your answers above, what do you think is likely the best approach to dealing with the missing values?"
   ]
  },
  {
   "cell_type": "code",
   "execution_count": 7,
   "id": "bc09b5a7",
   "metadata": {
    "execution": {
     "iopub.execute_input": "2025-05-03T21:27:51.456397Z",
     "iopub.status.busy": "2025-05-03T21:27:51.456093Z",
     "iopub.status.idle": "2025-05-03T21:27:51.462949Z",
     "shell.execute_reply": "2025-05-03T21:27:51.462132Z"
    },
    "papermill": {
     "duration": 0.015363,
     "end_time": "2025-05-03T21:27:51.464265",
     "exception": false,
     "start_time": "2025-05-03T21:27:51.448902",
     "status": "completed"
    },
    "tags": []
   },
   "outputs": [
    {
     "data": {
      "application/javascript": [
       "parent.postMessage({\"jupyterEvent\": \"custom.exercise_interaction\", \"data\": {\"outcomeType\": 1, \"valueTowardsCompletion\": 1.0, \"interactionType\": 1, \"questionType\": 4, \"questionId\": \"1.2_InvestigateThought\", \"learnToolsVersion\": \"0.3.5\", \"failureMessage\": \"\", \"exceptionClass\": \"\", \"trace\": \"\"}}, \"*\")"
      ],
      "text/plain": [
       "<IPython.core.display.Javascript object>"
      ]
     },
     "metadata": {},
     "output_type": "display_data"
    },
    {
     "data": {
      "text/markdown": [
       "<span style=\"color:#33cc33\">Correct:</span> \n",
       "\n",
       "Since there are relatively few missing entries in the data (the column with the greatest percentage of missing values is missing less than 20% of its entries), we can expect that dropping columns is unlikely to yield good results.  This is because we'd be throwing away a lot of valuable data, and so imputation will likely perform better."
      ],
      "text/plain": [
       "Correct: \n",
       "\n",
       "Since there are relatively few missing entries in the data (the column with the greatest percentage of missing values is missing less than 20% of its entries), we can expect that dropping columns is unlikely to yield good results.  This is because we'd be throwing away a lot of valuable data, and so imputation will likely perform better."
      ]
     },
     "metadata": {},
     "output_type": "display_data"
    }
   ],
   "source": [
    "# Check your answer (Run this code cell to receive credit!)\n",
    "step_1.b.check()"
   ]
  },
  {
   "cell_type": "code",
   "execution_count": 8,
   "id": "5efcc234",
   "metadata": {
    "execution": {
     "iopub.execute_input": "2025-05-03T21:27:51.478571Z",
     "iopub.status.busy": "2025-05-03T21:27:51.477804Z",
     "iopub.status.idle": "2025-05-03T21:27:51.481592Z",
     "shell.execute_reply": "2025-05-03T21:27:51.480914Z"
    },
    "papermill": {
     "duration": 0.012017,
     "end_time": "2025-05-03T21:27:51.482755",
     "exception": false,
     "start_time": "2025-05-03T21:27:51.470738",
     "status": "completed"
    },
    "tags": []
   },
   "outputs": [],
   "source": [
    "#step_1.b.hint()"
   ]
  },
  {
   "cell_type": "markdown",
   "id": "8ea3556b",
   "metadata": {
    "papermill": {
     "duration": 0.006103,
     "end_time": "2025-05-03T21:27:51.495374",
     "exception": false,
     "start_time": "2025-05-03T21:27:51.489271",
     "status": "completed"
    },
    "tags": []
   },
   "source": [
    "To compare different approaches to dealing with missing values, you'll use the same `score_dataset()` function from the tutorial.  This function reports the [mean absolute error](https://en.wikipedia.org/wiki/Mean_absolute_error) (MAE) from a random forest model."
   ]
  },
  {
   "cell_type": "code",
   "execution_count": 9,
   "id": "08333f08",
   "metadata": {
    "execution": {
     "iopub.execute_input": "2025-05-03T21:27:51.509537Z",
     "iopub.status.busy": "2025-05-03T21:27:51.508904Z",
     "iopub.status.idle": "2025-05-03T21:27:51.901674Z",
     "shell.execute_reply": "2025-05-03T21:27:51.900947Z"
    },
    "papermill": {
     "duration": 0.401501,
     "end_time": "2025-05-03T21:27:51.903228",
     "exception": false,
     "start_time": "2025-05-03T21:27:51.501727",
     "status": "completed"
    },
    "tags": []
   },
   "outputs": [],
   "source": [
    "from sklearn.ensemble import RandomForestRegressor\n",
    "from sklearn.metrics import mean_absolute_error\n",
    "\n",
    "# Function for comparing different approaches\n",
    "def score_dataset(X_train, X_valid, y_train, y_valid):\n",
    "    model = RandomForestRegressor(n_estimators=100, random_state=0)\n",
    "    model.fit(X_train, y_train)\n",
    "    preds = model.predict(X_valid)\n",
    "    return mean_absolute_error(y_valid, preds)"
   ]
  },
  {
   "cell_type": "markdown",
   "id": "8fdf6920",
   "metadata": {
    "papermill": {
     "duration": 0.006228,
     "end_time": "2025-05-03T21:27:51.916052",
     "exception": false,
     "start_time": "2025-05-03T21:27:51.909824",
     "status": "completed"
    },
    "tags": []
   },
   "source": [
    "# Step 2: Drop columns with missing values\n",
    "\n",
    "In this step, you'll preprocess the data in `X_train` and `X_valid` to remove columns with missing values.  Set the preprocessed DataFrames to `reduced_X_train` and `reduced_X_valid`, respectively.  "
   ]
  },
  {
   "cell_type": "code",
   "execution_count": 10,
   "id": "30eca017",
   "metadata": {
    "execution": {
     "iopub.execute_input": "2025-05-03T21:27:51.930424Z",
     "iopub.status.busy": "2025-05-03T21:27:51.930112Z",
     "iopub.status.idle": "2025-05-03T21:27:51.949401Z",
     "shell.execute_reply": "2025-05-03T21:27:51.948533Z"
    },
    "papermill": {
     "duration": 0.028294,
     "end_time": "2025-05-03T21:27:51.950829",
     "exception": false,
     "start_time": "2025-05-03T21:27:51.922535",
     "status": "completed"
    },
    "tags": []
   },
   "outputs": [
    {
     "data": {
      "application/javascript": [
       "parent.postMessage({\"jupyterEvent\": \"custom.exercise_interaction\", \"data\": {\"outcomeType\": 1, \"valueTowardsCompletion\": 1.0, \"interactionType\": 1, \"questionType\": 2, \"questionId\": \"2_DropMissing\", \"learnToolsVersion\": \"0.3.5\", \"failureMessage\": \"\", \"exceptionClass\": \"\", \"trace\": \"\"}}, \"*\")"
      ],
      "text/plain": [
       "<IPython.core.display.Javascript object>"
      ]
     },
     "metadata": {},
     "output_type": "display_data"
    },
    {
     "data": {
      "text/markdown": [
       "<span style=\"color:#33cc33\">Correct</span>"
      ],
      "text/plain": [
       "Correct"
      ]
     },
     "metadata": {},
     "output_type": "display_data"
    }
   ],
   "source": [
    "# Fill in the line below: get names of columns with missing values\n",
    "missing_cols = [col for col in X_train.columns if X_train[col].isnull().any()] # Your code here\n",
    "\n",
    "# Fill in the lines below: drop columns in training and validation data\n",
    "reduced_X_train = X_train.drop(missing_cols, axis=1)\n",
    "reduced_X_valid = X_valid.drop(missing_cols, axis=1)\n",
    "\n",
    "# Check your answers\n",
    "step_2.check()"
   ]
  },
  {
   "cell_type": "code",
   "execution_count": 11,
   "id": "468d0023",
   "metadata": {
    "execution": {
     "iopub.execute_input": "2025-05-03T21:27:51.966347Z",
     "iopub.status.busy": "2025-05-03T21:27:51.965985Z",
     "iopub.status.idle": "2025-05-03T21:27:51.969927Z",
     "shell.execute_reply": "2025-05-03T21:27:51.969113Z"
    },
    "papermill": {
     "duration": 0.013859,
     "end_time": "2025-05-03T21:27:51.971407",
     "exception": false,
     "start_time": "2025-05-03T21:27:51.957548",
     "status": "completed"
    },
    "tags": []
   },
   "outputs": [],
   "source": [
    "# Lines below will give you a hint or solution code\n",
    "#step_2.hint()\n",
    "#step_2.solution()"
   ]
  },
  {
   "cell_type": "markdown",
   "id": "77a9356e",
   "metadata": {
    "papermill": {
     "duration": 0.00635,
     "end_time": "2025-05-03T21:27:51.984452",
     "exception": false,
     "start_time": "2025-05-03T21:27:51.978102",
     "status": "completed"
    },
    "tags": []
   },
   "source": [
    "Run the next code cell without changes to obtain the MAE for this approach."
   ]
  },
  {
   "cell_type": "code",
   "execution_count": 12,
   "id": "f9b0849b",
   "metadata": {
    "execution": {
     "iopub.execute_input": "2025-05-03T21:27:51.998989Z",
     "iopub.status.busy": "2025-05-03T21:27:51.998642Z",
     "iopub.status.idle": "2025-05-03T21:27:53.167155Z",
     "shell.execute_reply": "2025-05-03T21:27:53.166267Z"
    },
    "papermill": {
     "duration": 1.177448,
     "end_time": "2025-05-03T21:27:53.168497",
     "exception": false,
     "start_time": "2025-05-03T21:27:51.991049",
     "status": "completed"
    },
    "tags": []
   },
   "outputs": [
    {
     "name": "stdout",
     "output_type": "stream",
     "text": [
      "MAE (Drop columns with missing values):\n",
      "17837.82570776256\n"
     ]
    }
   ],
   "source": [
    "print(\"MAE (Drop columns with missing values):\")\n",
    "print(score_dataset(reduced_X_train, reduced_X_valid, y_train, y_valid))"
   ]
  },
  {
   "cell_type": "markdown",
   "id": "fc5b03e2",
   "metadata": {
    "papermill": {
     "duration": 0.00685,
     "end_time": "2025-05-03T21:27:53.182502",
     "exception": false,
     "start_time": "2025-05-03T21:27:53.175652",
     "status": "completed"
    },
    "tags": []
   },
   "source": [
    "# Step 3: Imputation\n",
    "\n",
    "### Part A\n",
    "\n",
    "Use the next code cell to impute missing values with the mean value along each column.  Set the preprocessed DataFrames to `imputed_X_train` and `imputed_X_valid`.  Make sure that the column names match those in `X_train` and `X_valid`."
   ]
  },
  {
   "cell_type": "code",
   "execution_count": 13,
   "id": "d93bea32",
   "metadata": {
    "execution": {
     "iopub.execute_input": "2025-05-03T21:27:53.197212Z",
     "iopub.status.busy": "2025-05-03T21:27:53.196848Z",
     "iopub.status.idle": "2025-05-03T21:27:53.228863Z",
     "shell.execute_reply": "2025-05-03T21:27:53.228101Z"
    },
    "papermill": {
     "duration": 0.040833,
     "end_time": "2025-05-03T21:27:53.230165",
     "exception": false,
     "start_time": "2025-05-03T21:27:53.189332",
     "status": "completed"
    },
    "tags": []
   },
   "outputs": [
    {
     "data": {
      "application/javascript": [
       "parent.postMessage({\"jupyterEvent\": \"custom.exercise_interaction\", \"data\": {\"outcomeType\": 1, \"valueTowardsCompletion\": 1.0, \"interactionType\": 1, \"questionType\": 2, \"questionId\": \"3.1_ImputeCode\", \"learnToolsVersion\": \"0.3.5\", \"failureMessage\": \"\", \"exceptionClass\": \"\", \"trace\": \"\"}}, \"*\")"
      ],
      "text/plain": [
       "<IPython.core.display.Javascript object>"
      ]
     },
     "metadata": {},
     "output_type": "display_data"
    },
    {
     "data": {
      "text/markdown": [
       "<span style=\"color:#33cc33\">Correct</span>"
      ],
      "text/plain": [
       "Correct"
      ]
     },
     "metadata": {},
     "output_type": "display_data"
    }
   ],
   "source": [
    "from sklearn.impute import SimpleImputer\n",
    "\n",
    "# Fill in the lines below: imputation\n",
    "imputer = SimpleImputer() # Your code here\n",
    "\n",
    "imputed_X_train = pd.DataFrame(imputer.fit_transform(X_train))\n",
    "imputed_X_valid = pd.DataFrame(imputer.transform(X_valid))\n",
    "\n",
    "# Fill in the lines below: imputation removed column names; put them back\n",
    "imputed_X_train.columns = X_train.columns\n",
    "imputed_X_valid.columns = X_valid.columns\n",
    "\n",
    "# Check your answers\n",
    "step_3.a.check()"
   ]
  },
  {
   "cell_type": "code",
   "execution_count": 14,
   "id": "f3513135",
   "metadata": {
    "execution": {
     "iopub.execute_input": "2025-05-03T21:27:53.245875Z",
     "iopub.status.busy": "2025-05-03T21:27:53.245263Z",
     "iopub.status.idle": "2025-05-03T21:27:53.248678Z",
     "shell.execute_reply": "2025-05-03T21:27:53.247957Z"
    },
    "papermill": {
     "duration": 0.012543,
     "end_time": "2025-05-03T21:27:53.249996",
     "exception": false,
     "start_time": "2025-05-03T21:27:53.237453",
     "status": "completed"
    },
    "tags": []
   },
   "outputs": [],
   "source": [
    "# Lines below will give you a hint or solution code\n",
    "#step_3.a.hint()\n",
    "#step_3.a.solution()"
   ]
  },
  {
   "cell_type": "markdown",
   "id": "7c789c3d",
   "metadata": {
    "papermill": {
     "duration": 0.006675,
     "end_time": "2025-05-03T21:27:53.263854",
     "exception": false,
     "start_time": "2025-05-03T21:27:53.257179",
     "status": "completed"
    },
    "tags": []
   },
   "source": [
    "Run the next code cell without changes to obtain the MAE for this approach."
   ]
  },
  {
   "cell_type": "code",
   "execution_count": 15,
   "id": "d30821ba",
   "metadata": {
    "execution": {
     "iopub.execute_input": "2025-05-03T21:27:53.278965Z",
     "iopub.status.busy": "2025-05-03T21:27:53.278697Z",
     "iopub.status.idle": "2025-05-03T21:27:54.571320Z",
     "shell.execute_reply": "2025-05-03T21:27:54.570297Z"
    },
    "papermill": {
     "duration": 1.301983,
     "end_time": "2025-05-03T21:27:54.572718",
     "exception": false,
     "start_time": "2025-05-03T21:27:53.270735",
     "status": "completed"
    },
    "tags": []
   },
   "outputs": [
    {
     "name": "stdout",
     "output_type": "stream",
     "text": [
      "MAE (Imputation):\n",
      "18062.894611872147\n"
     ]
    }
   ],
   "source": [
    "print(\"MAE (Imputation):\")\n",
    "print(score_dataset(imputed_X_train, imputed_X_valid, y_train, y_valid))"
   ]
  },
  {
   "cell_type": "markdown",
   "id": "e1ec3e9d",
   "metadata": {
    "papermill": {
     "duration": 0.008543,
     "end_time": "2025-05-03T21:27:54.647903",
     "exception": false,
     "start_time": "2025-05-03T21:27:54.639360",
     "status": "completed"
    },
    "tags": []
   },
   "source": [
    "### Part B\n",
    "\n",
    "Compare the MAE from each approach.  Does anything surprise you about the results?  Why do you think one approach performed better than the other?"
   ]
  },
  {
   "cell_type": "code",
   "execution_count": 16,
   "id": "1104f8f7",
   "metadata": {
    "execution": {
     "iopub.execute_input": "2025-05-03T21:27:54.663121Z",
     "iopub.status.busy": "2025-05-03T21:27:54.662808Z",
     "iopub.status.idle": "2025-05-03T21:27:54.669497Z",
     "shell.execute_reply": "2025-05-03T21:27:54.668624Z"
    },
    "papermill": {
     "duration": 0.015885,
     "end_time": "2025-05-03T21:27:54.670832",
     "exception": false,
     "start_time": "2025-05-03T21:27:54.654947",
     "status": "completed"
    },
    "tags": []
   },
   "outputs": [
    {
     "data": {
      "application/javascript": [
       "parent.postMessage({\"jupyterEvent\": \"custom.exercise_interaction\", \"data\": {\"outcomeType\": 1, \"valueTowardsCompletion\": 1.0, \"interactionType\": 1, \"questionType\": 4, \"questionId\": \"3.2_ImputeThought\", \"learnToolsVersion\": \"0.3.5\", \"failureMessage\": \"\", \"exceptionClass\": \"\", \"trace\": \"\"}}, \"*\")"
      ],
      "text/plain": [
       "<IPython.core.display.Javascript object>"
      ]
     },
     "metadata": {},
     "output_type": "display_data"
    },
    {
     "data": {
      "text/markdown": [
       "<span style=\"color:#33cc33\">Correct:</span> \n",
       "\n",
       "Given that thre are so few missing values in the dataset, we'd expect imputation to perform better than dropping columns entirely.  However, we see that dropping columns performs slightly better!  While this can probably partially be attributed to noise in the dataset, another potential explanation is that the imputation method is not a great match to this dataset.  That is, maybe instead of filling in the mean value, it makes more sense to set every missing value to a value of 0, to fill in the most frequently encountered value, or to use some other method.  For instance, consider the `GarageYrBlt` column (which indicates the year that the garage was built).  It's likely that in some cases, a missing value could indicate a house that does not have a garage.  Does it make more sense to fill in the median value along each column in this case?  Or could we get better results by filling in the minimum value along each column?  It's not quite clear what's best in this case, but perhaps we can rule out some options immediately - for instance, setting missing values in this column to 0 is likely to yield horrible results!"
      ],
      "text/plain": [
       "Correct: \n",
       "\n",
       "Given that thre are so few missing values in the dataset, we'd expect imputation to perform better than dropping columns entirely.  However, we see that dropping columns performs slightly better!  While this can probably partially be attributed to noise in the dataset, another potential explanation is that the imputation method is not a great match to this dataset.  That is, maybe instead of filling in the mean value, it makes more sense to set every missing value to a value of 0, to fill in the most frequently encountered value, or to use some other method.  For instance, consider the `GarageYrBlt` column (which indicates the year that the garage was built).  It's likely that in some cases, a missing value could indicate a house that does not have a garage.  Does it make more sense to fill in the median value along each column in this case?  Or could we get better results by filling in the minimum value along each column?  It's not quite clear what's best in this case, but perhaps we can rule out some options immediately - for instance, setting missing values in this column to 0 is likely to yield horrible results!"
      ]
     },
     "metadata": {},
     "output_type": "display_data"
    }
   ],
   "source": [
    "# Check your answer (Run this code cell to receive credit!)\n",
    "step_3.b.check()"
   ]
  },
  {
   "cell_type": "code",
   "execution_count": 17,
   "id": "0290165a",
   "metadata": {
    "execution": {
     "iopub.execute_input": "2025-05-03T21:27:54.687383Z",
     "iopub.status.busy": "2025-05-03T21:27:54.686656Z",
     "iopub.status.idle": "2025-05-03T21:27:54.690354Z",
     "shell.execute_reply": "2025-05-03T21:27:54.689573Z"
    },
    "papermill": {
     "duration": 0.01315,
     "end_time": "2025-05-03T21:27:54.691599",
     "exception": false,
     "start_time": "2025-05-03T21:27:54.678449",
     "status": "completed"
    },
    "tags": []
   },
   "outputs": [],
   "source": [
    "#step_3.b.hint()"
   ]
  },
  {
   "cell_type": "markdown",
   "id": "f2cb020f",
   "metadata": {
    "papermill": {
     "duration": 0.006927,
     "end_time": "2025-05-03T21:27:54.705883",
     "exception": false,
     "start_time": "2025-05-03T21:27:54.698956",
     "status": "completed"
    },
    "tags": []
   },
   "source": [
    "# Step 4: Generate test predictions\n",
    "\n",
    "In this final step, you'll use any approach of your choosing to deal with missing values.  Once you've preprocessed the training and validation features, you'll train and evaluate a random forest model.  Then, you'll preprocess the test data before generating predictions that can be submitted to the competition!\n",
    "\n",
    "### Part A\n",
    "\n",
    "Use the next code cell to preprocess the training and validation data.  Set the preprocessed DataFrames to `final_X_train` and `final_X_valid`.  **You can use any approach of your choosing here!**  in order for this step to be marked as correct, you need only ensure:\n",
    "- the preprocessed DataFrames have the same number of columns,\n",
    "- the preprocessed DataFrames have no missing values, \n",
    "- `final_X_train` and `y_train` have the same number of rows, and\n",
    "- `final_X_valid` and `y_valid` have the same number of rows."
   ]
  },
  {
   "cell_type": "code",
   "execution_count": 18,
   "id": "fe626a18",
   "metadata": {
    "execution": {
     "iopub.execute_input": "2025-05-03T21:27:54.721653Z",
     "iopub.status.busy": "2025-05-03T21:27:54.721084Z",
     "iopub.status.idle": "2025-05-03T21:27:54.725711Z",
     "shell.execute_reply": "2025-05-03T21:27:54.724889Z"
    },
    "papermill": {
     "duration": 0.013842,
     "end_time": "2025-05-03T21:27:54.726883",
     "exception": false,
     "start_time": "2025-05-03T21:27:54.713041",
     "status": "completed"
    },
    "tags": []
   },
   "outputs": [
    {
     "name": "stdout",
     "output_type": "stream",
     "text": [
      "Index(['MSSubClass', 'LotFrontage', 'LotArea', 'OverallQual', 'OverallCond',\n",
      "       'YearBuilt', 'YearRemodAdd', 'MasVnrArea', 'BsmtFinSF1', 'BsmtFinSF2',\n",
      "       'BsmtUnfSF', 'TotalBsmtSF', '1stFlrSF', '2ndFlrSF', 'LowQualFinSF',\n",
      "       'GrLivArea', 'BsmtFullBath', 'BsmtHalfBath', 'FullBath', 'HalfBath',\n",
      "       'BedroomAbvGr', 'KitchenAbvGr', 'TotRmsAbvGrd', 'Fireplaces',\n",
      "       'GarageYrBlt', 'GarageCars', 'GarageArea', 'WoodDeckSF', 'OpenPorchSF',\n",
      "       'EnclosedPorch', '3SsnPorch', 'ScreenPorch', 'PoolArea', 'MiscVal',\n",
      "       'MoSold', 'YrSold'],\n",
      "      dtype='object')\n"
     ]
    }
   ],
   "source": [
    "print(X_train.columns)"
   ]
  },
  {
   "cell_type": "code",
   "execution_count": 19,
   "id": "0cd7f030",
   "metadata": {
    "execution": {
     "iopub.execute_input": "2025-05-03T21:27:54.743492Z",
     "iopub.status.busy": "2025-05-03T21:27:54.742518Z",
     "iopub.status.idle": "2025-05-03T21:27:54.764495Z",
     "shell.execute_reply": "2025-05-03T21:27:54.763670Z"
    },
    "papermill": {
     "duration": 0.031296,
     "end_time": "2025-05-03T21:27:54.765676",
     "exception": false,
     "start_time": "2025-05-03T21:27:54.734380",
     "status": "completed"
    },
    "tags": []
   },
   "outputs": [
    {
     "data": {
      "application/javascript": [
       "parent.postMessage({\"jupyterEvent\": \"custom.exercise_interaction\", \"data\": {\"outcomeType\": 1, \"valueTowardsCompletion\": 1.0, \"interactionType\": 1, \"questionType\": 2, \"questionId\": \"4.1_PredsCodeA\", \"learnToolsVersion\": \"0.3.5\", \"failureMessage\": \"\", \"exceptionClass\": \"\", \"trace\": \"\"}}, \"*\")"
      ],
      "text/plain": [
       "<IPython.core.display.Javascript object>"
      ]
     },
     "metadata": {},
     "output_type": "display_data"
    },
    {
     "data": {
      "text/markdown": [
       "<span style=\"color:#33cc33\">Correct</span>"
      ],
      "text/plain": [
       "Correct"
      ]
     },
     "metadata": {},
     "output_type": "display_data"
    }
   ],
   "source": [
    "# Preprocessed training and validation features\n",
    "\n",
    "cols_to_drop = ['GarageYrBlt']\n",
    "\n",
    "imputer = SimpleImputer()\n",
    "final_X_train = pd.DataFrame(imputer.fit_transform(X_train.drop(cols_to_drop, axis=1)))\n",
    "final_X_valid = pd.DataFrame(imputer.transform(X_valid.drop(cols_to_drop, axis=1)))\n",
    "\n",
    "# Check your answers\n",
    "step_4.a.check()"
   ]
  },
  {
   "cell_type": "code",
   "execution_count": 20,
   "id": "83e64f35",
   "metadata": {
    "execution": {
     "iopub.execute_input": "2025-05-03T21:27:54.782562Z",
     "iopub.status.busy": "2025-05-03T21:27:54.781937Z",
     "iopub.status.idle": "2025-05-03T21:27:54.785479Z",
     "shell.execute_reply": "2025-05-03T21:27:54.784773Z"
    },
    "papermill": {
     "duration": 0.013119,
     "end_time": "2025-05-03T21:27:54.786697",
     "exception": false,
     "start_time": "2025-05-03T21:27:54.773578",
     "status": "completed"
    },
    "tags": []
   },
   "outputs": [],
   "source": [
    "# Lines below will give you a hint or solution code\n",
    "#step_4.a.hint()\n",
    "#step_4.a.solution()"
   ]
  },
  {
   "cell_type": "markdown",
   "id": "eac1bb90",
   "metadata": {
    "papermill": {
     "duration": 0.007421,
     "end_time": "2025-05-03T21:27:54.801829",
     "exception": false,
     "start_time": "2025-05-03T21:27:54.794408",
     "status": "completed"
    },
    "tags": []
   },
   "source": [
    "Run the next code cell to train and evaluate a random forest model.  (*Note that we don't use the `score_dataset()` function above, because we will soon use the trained model to generate test predictions!*)"
   ]
  },
  {
   "cell_type": "code",
   "execution_count": 21,
   "id": "d79a046a",
   "metadata": {
    "execution": {
     "iopub.execute_input": "2025-05-03T21:27:54.818016Z",
     "iopub.status.busy": "2025-05-03T21:27:54.817721Z",
     "iopub.status.idle": "2025-05-03T21:27:56.057388Z",
     "shell.execute_reply": "2025-05-03T21:27:56.056421Z"
    },
    "papermill": {
     "duration": 1.249577,
     "end_time": "2025-05-03T21:27:56.058922",
     "exception": false,
     "start_time": "2025-05-03T21:27:54.809345",
     "status": "completed"
    },
    "tags": []
   },
   "outputs": [
    {
     "name": "stdout",
     "output_type": "stream",
     "text": [
      "MAE (Your approach):\n",
      "18014.59256849315\n"
     ]
    }
   ],
   "source": [
    "# Define and fit model\n",
    "model = RandomForestRegressor(n_estimators=100, random_state=0)\n",
    "model.fit(final_X_train, y_train)\n",
    "\n",
    "# Get validation predictions and MAE\n",
    "preds_valid = model.predict(final_X_valid)\n",
    "print(\"MAE (Your approach):\")\n",
    "print(mean_absolute_error(y_valid, preds_valid))"
   ]
  },
  {
   "cell_type": "markdown",
   "id": "bd6ecf3e",
   "metadata": {
    "papermill": {
     "duration": 0.007639,
     "end_time": "2025-05-03T21:27:56.074386",
     "exception": false,
     "start_time": "2025-05-03T21:27:56.066747",
     "status": "completed"
    },
    "tags": []
   },
   "source": [
    "### Part B\n",
    "\n",
    "Use the next code cell to preprocess your test data.  Make sure that you use a method that agrees with how you preprocessed the training and validation data, and set the preprocessed test features to `final_X_test`.\n",
    "\n",
    "Then, use the preprocessed test features and the trained model to generate test predictions in `preds_test`.\n",
    "\n",
    "In order for this step to be marked correct, you need only ensure:\n",
    "- the preprocessed test DataFrame has no missing values, and\n",
    "- `final_X_test` has the same number of rows as `X_test`."
   ]
  },
  {
   "cell_type": "code",
   "execution_count": 22,
   "id": "40a82bbc",
   "metadata": {
    "execution": {
     "iopub.execute_input": "2025-05-03T21:27:56.090961Z",
     "iopub.status.busy": "2025-05-03T21:27:56.090361Z",
     "iopub.status.idle": "2025-05-03T21:27:56.128297Z",
     "shell.execute_reply": "2025-05-03T21:27:56.127524Z"
    },
    "papermill": {
     "duration": 0.047653,
     "end_time": "2025-05-03T21:27:56.129537",
     "exception": false,
     "start_time": "2025-05-03T21:27:56.081884",
     "status": "completed"
    },
    "tags": []
   },
   "outputs": [
    {
     "data": {
      "application/javascript": [
       "parent.postMessage({\"jupyterEvent\": \"custom.exercise_interaction\", \"data\": {\"outcomeType\": 1, \"valueTowardsCompletion\": 1.0, \"interactionType\": 1, \"questionType\": 2, \"questionId\": \"4.2_PredsCodeB\", \"learnToolsVersion\": \"0.3.5\", \"failureMessage\": \"\", \"exceptionClass\": \"\", \"trace\": \"\"}}, \"*\")"
      ],
      "text/plain": [
       "<IPython.core.display.Javascript object>"
      ]
     },
     "metadata": {},
     "output_type": "display_data"
    },
    {
     "data": {
      "text/markdown": [
       "<span style=\"color:#33cc33\">Correct</span>"
      ],
      "text/plain": [
       "Correct"
      ]
     },
     "metadata": {},
     "output_type": "display_data"
    }
   ],
   "source": [
    "# Fill in the line below: preprocess test data\n",
    "final_X_test = pd.DataFrame(imputer.transform(X_test.drop(cols_to_drop, axis=1)))\n",
    "\n",
    "# Fill in the line below: get test predictions\n",
    "preds_test = model.predict(final_X_test)\n",
    "\n",
    "# Check your answers\n",
    "step_4.b.check()"
   ]
  },
  {
   "cell_type": "code",
   "execution_count": 23,
   "id": "edd6a5a2",
   "metadata": {
    "execution": {
     "iopub.execute_input": "2025-05-03T21:27:56.146872Z",
     "iopub.status.busy": "2025-05-03T21:27:56.146046Z",
     "iopub.status.idle": "2025-05-03T21:27:56.149869Z",
     "shell.execute_reply": "2025-05-03T21:27:56.149091Z"
    },
    "papermill": {
     "duration": 0.013889,
     "end_time": "2025-05-03T21:27:56.151243",
     "exception": false,
     "start_time": "2025-05-03T21:27:56.137354",
     "status": "completed"
    },
    "tags": []
   },
   "outputs": [],
   "source": [
    "# Lines below will give you a hint or solution code\n",
    "#step_4.b.hint()\n",
    "#step_4.b.solution()"
   ]
  },
  {
   "cell_type": "markdown",
   "id": "8565e743",
   "metadata": {
    "papermill": {
     "duration": 0.007737,
     "end_time": "2025-05-03T21:27:56.167098",
     "exception": false,
     "start_time": "2025-05-03T21:27:56.159361",
     "status": "completed"
    },
    "tags": []
   },
   "source": [
    "Run the next code cell without changes to save your results to a CSV file that can be submitted directly to the competition."
   ]
  },
  {
   "cell_type": "code",
   "execution_count": 24,
   "id": "9b68c374",
   "metadata": {
    "execution": {
     "iopub.execute_input": "2025-05-03T21:27:56.184214Z",
     "iopub.status.busy": "2025-05-03T21:27:56.183605Z",
     "iopub.status.idle": "2025-05-03T21:27:56.195700Z",
     "shell.execute_reply": "2025-05-03T21:27:56.194896Z"
    },
    "papermill": {
     "duration": 0.022102,
     "end_time": "2025-05-03T21:27:56.197052",
     "exception": false,
     "start_time": "2025-05-03T21:27:56.174950",
     "status": "completed"
    },
    "tags": []
   },
   "outputs": [],
   "source": [
    "# Save test predictions to file\n",
    "output = pd.DataFrame({'Id': X_test.index,\n",
    "                       'SalePrice': preds_test})\n",
    "output.to_csv('submission.csv', index=False)"
   ]
  },
  {
   "cell_type": "markdown",
   "id": "47005ef8",
   "metadata": {
    "papermill": {
     "duration": 0.007479,
     "end_time": "2025-05-03T21:27:56.212434",
     "exception": false,
     "start_time": "2025-05-03T21:27:56.204955",
     "status": "completed"
    },
    "tags": []
   },
   "source": [
    "# Submit your results\n",
    "\n",
    "Once you have successfully completed Step 4, you're ready to submit your results to the leaderboard!  (_You also learned how to do this in the previous exercise.  If you need a reminder of how to do this, please use the instructions below._)  \n",
    "\n",
    "First, you'll need to join the competition if you haven't already.  So open a new window by clicking on [this link](https://www.kaggle.com/c/home-data-for-ml-course).  Then click on the **Join Competition** button.\n",
    "\n",
    "![join competition image](https://storage.googleapis.com/kaggle-media/learn/images/wLmFtH3.png)\n",
    "\n",
    "Next, follow the instructions below:\n",
    "1. Begin by clicking on the **Save Version** button in the top right corner of the window.  This will generate a pop-up window.  \n",
    "2. Ensure that the **Save and Run All** option is selected, and then click on the **Save** button.\n",
    "3. This generates a window in the bottom left corner of the notebook.  After it has finished running, click on the number to the right of the **Save Version** button.  This pulls up a list of versions on the right of the screen.  Click on the ellipsis **(...)** to the right of the most recent version, and select **Open in Viewer**.  This brings you into view mode of the same page. You will need to scroll down to get back to these instructions.\n",
    "4. Click on the **Data** tab near the top of the screen.  Then, click on the file you would like to submit, and click on the **Submit** button to submit your results to the leaderboard.\n",
    "\n",
    "You have now successfully submitted to the competition!\n",
    "\n",
    "If you want to keep working to improve your performance, select the **Edit** button in the top right of the screen. Then you can change your code and repeat the process. There's a lot of room to improve, and you will climb up the leaderboard as you work.\n",
    "\n",
    "\n",
    "# Keep going\n",
    "\n",
    "Move on to learn what **[categorical variables](https://www.kaggle.com/alexisbcook/categorical-variables)** are, along with how to incorporate them into your machine learning models.  Categorical variables are very common in real-world data, but you'll get an error if you try to plug them into your models without processing them first!"
   ]
  },
  {
   "cell_type": "markdown",
   "id": "92b56ed5",
   "metadata": {
    "papermill": {
     "duration": 0.007487,
     "end_time": "2025-05-03T21:27:56.227615",
     "exception": false,
     "start_time": "2025-05-03T21:27:56.220128",
     "status": "completed"
    },
    "tags": []
   },
   "source": [
    "---\n",
    "\n",
    "\n",
    "\n",
    "\n",
    "*Have questions or comments? Visit the [course discussion forum](https://www.kaggle.com/learn/intermediate-machine-learning/discussion) to chat with other learners.*"
   ]
  }
 ],
 "metadata": {
  "kaggle": {
   "accelerator": "none",
   "dataSources": [
    {
     "databundleVersionId": 111096,
     "sourceId": 10211,
     "sourceType": "competition"
    }
   ],
   "isGpuEnabled": false,
   "isInternetEnabled": false,
   "language": "python",
   "sourceType": "notebook"
  },
  "kernelspec": {
   "display_name": "Python 3",
   "language": "python",
   "name": "python3"
  },
  "language_info": {
   "codemirror_mode": {
    "name": "ipython",
    "version": 3
   },
   "file_extension": ".py",
   "mimetype": "text/x-python",
   "name": "python",
   "nbconvert_exporter": "python",
   "pygments_lexer": "ipython3",
   "version": "3.11.11"
  },
  "papermill": {
   "default_parameters": {},
   "duration": 13.617349,
   "end_time": "2025-05-03T21:27:56.855056",
   "environment_variables": {},
   "exception": null,
   "input_path": "__notebook__.ipynb",
   "output_path": "__notebook__.ipynb",
   "parameters": {},
   "start_time": "2025-05-03T21:27:43.237707",
   "version": "2.6.0"
  }
 },
 "nbformat": 4,
 "nbformat_minor": 5
}
