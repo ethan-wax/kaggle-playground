{
 "cells": [
  {
   "cell_type": "markdown",
   "id": "52cf4d90",
   "metadata": {
    "papermill": {
     "duration": 0.006128,
     "end_time": "2025-05-24T17:35:43.983329",
     "exception": false,
     "start_time": "2025-05-24T17:35:43.977201",
     "status": "completed"
    },
    "tags": []
   },
   "source": [
    "**This notebook is an exercise in the [Intro to Deep Learning](https://www.kaggle.com/learn/intro-to-deep-learning) course.  You can reference the tutorial at [this link](https://www.kaggle.com/ryanholbrook/overfitting-and-underfitting).**\n",
    "\n",
    "---\n"
   ]
  },
  {
   "cell_type": "markdown",
   "id": "ddbc2a8a",
   "metadata": {
    "papermill": {
     "duration": 0.004809,
     "end_time": "2025-05-24T17:35:43.993730",
     "exception": false,
     "start_time": "2025-05-24T17:35:43.988921",
     "status": "completed"
    },
    "tags": []
   },
   "source": [
    "# Introduction #\n",
    "\n",
    "In this exercise, you’ll learn how to improve training outcomes by including an early stopping callback to prevent overfitting.\n",
    "\n",
    "When you're ready, run this next cell to set everything up!"
   ]
  },
  {
   "cell_type": "code",
   "execution_count": 1,
   "id": "b376b6e4",
   "metadata": {
    "execution": {
     "iopub.execute_input": "2025-05-24T17:35:44.005796Z",
     "iopub.status.busy": "2025-05-24T17:35:44.005330Z",
     "iopub.status.idle": "2025-05-24T17:35:45.263999Z",
     "shell.execute_reply": "2025-05-24T17:35:45.262707Z"
    },
    "papermill": {
     "duration": 1.268071,
     "end_time": "2025-05-24T17:35:45.266817",
     "exception": false,
     "start_time": "2025-05-24T17:35:43.998746",
     "status": "completed"
    },
    "tags": []
   },
   "outputs": [
    {
     "name": "stderr",
     "output_type": "stream",
     "text": [
      "/tmp/ipykernel_18/1500229236.py:3: MatplotlibDeprecationWarning: The seaborn styles shipped by Matplotlib are deprecated since 3.6, as they no longer correspond to the styles shipped by seaborn. However, they will remain available as 'seaborn-v0_8-<style>'. Alternatively, directly use the seaborn API instead.\n",
      "  plt.style.use('seaborn-whitegrid')\n"
     ]
    }
   ],
   "source": [
    "# Setup plotting\n",
    "import matplotlib.pyplot as plt\n",
    "plt.style.use('seaborn-whitegrid')\n",
    "# Set Matplotlib defaults\n",
    "plt.rc('figure', autolayout=True)\n",
    "plt.rc('axes', labelweight='bold', labelsize='large',\n",
    "       titleweight='bold', titlesize=18, titlepad=10)\n",
    "plt.rc('animation', html='html5')\n",
    "\n",
    "# Setup feedback system\n",
    "from learntools.core import binder\n",
    "binder.bind(globals())\n",
    "from learntools.deep_learning_intro.ex4 import *"
   ]
  },
  {
   "cell_type": "markdown",
   "id": "965e1792",
   "metadata": {
    "papermill": {
     "duration": 0.005052,
     "end_time": "2025-05-24T17:35:45.277024",
     "exception": false,
     "start_time": "2025-05-24T17:35:45.271972",
     "status": "completed"
    },
    "tags": []
   },
   "source": [
    "First load the *Spotify* dataset. Your task will be to predict the popularity of a song based on various audio features, like `'tempo'`, `'danceability'`, and `'mode'`."
   ]
  },
  {
   "cell_type": "code",
   "execution_count": 2,
   "id": "1d0c1c80",
   "metadata": {
    "execution": {
     "iopub.execute_input": "2025-05-24T17:35:45.288608Z",
     "iopub.status.busy": "2025-05-24T17:35:45.288097Z",
     "iopub.status.idle": "2025-05-24T17:36:04.344414Z",
     "shell.execute_reply": "2025-05-24T17:36:04.343043Z"
    },
    "papermill": {
     "duration": 19.06559,
     "end_time": "2025-05-24T17:36:04.347494",
     "exception": false,
     "start_time": "2025-05-24T17:35:45.281904",
     "status": "completed"
    },
    "tags": []
   },
   "outputs": [
    {
     "name": "stderr",
     "output_type": "stream",
     "text": [
      "2025-05-24 17:35:49.985834: E external/local_xla/xla/stream_executor/cuda/cuda_dnn.cc:9261] Unable to register cuDNN factory: Attempting to register factory for plugin cuDNN when one has already been registered\n",
      "2025-05-24 17:35:49.986102: E external/local_xla/xla/stream_executor/cuda/cuda_fft.cc:607] Unable to register cuFFT factory: Attempting to register factory for plugin cuFFT when one has already been registered\n",
      "2025-05-24 17:35:50.176819: E external/local_xla/xla/stream_executor/cuda/cuda_blas.cc:1515] Unable to register cuBLAS factory: Attempting to register factory for plugin cuBLAS when one has already been registered\n"
     ]
    },
    {
     "name": "stdout",
     "output_type": "stream",
     "text": [
      "Input shape: [18]\n"
     ]
    }
   ],
   "source": [
    "import pandas as pd\n",
    "from sklearn.preprocessing import StandardScaler, OneHotEncoder\n",
    "from sklearn.compose import make_column_transformer\n",
    "from sklearn.model_selection import GroupShuffleSplit\n",
    "\n",
    "from tensorflow import keras\n",
    "from tensorflow.keras import layers\n",
    "from tensorflow.keras import callbacks\n",
    "\n",
    "spotify = pd.read_csv('../input/dl-course-data/spotify.csv')\n",
    "\n",
    "X = spotify.copy().dropna()\n",
    "y = X.pop('track_popularity')\n",
    "artists = X['track_artist']\n",
    "\n",
    "features_num = ['danceability', 'energy', 'key', 'loudness', 'mode',\n",
    "                'speechiness', 'acousticness', 'instrumentalness',\n",
    "                'liveness', 'valence', 'tempo', 'duration_ms']\n",
    "features_cat = ['playlist_genre']\n",
    "\n",
    "preprocessor = make_column_transformer(\n",
    "    (StandardScaler(), features_num),\n",
    "    (OneHotEncoder(), features_cat),\n",
    ")\n",
    "\n",
    "# We'll do a \"grouped\" split to keep all of an artist's songs in one\n",
    "# split or the other. This is to help prevent signal leakage.\n",
    "def group_split(X, y, group, train_size=0.75):\n",
    "    splitter = GroupShuffleSplit(train_size=train_size)\n",
    "    train, test = next(splitter.split(X, y, groups=group))\n",
    "    return (X.iloc[train], X.iloc[test], y.iloc[train], y.iloc[test])\n",
    "\n",
    "X_train, X_valid, y_train, y_valid = group_split(X, y, artists)\n",
    "\n",
    "X_train = preprocessor.fit_transform(X_train)\n",
    "X_valid = preprocessor.transform(X_valid)\n",
    "y_train = y_train / 100 # popularity is on a scale 0-100, so this rescales to 0-1.\n",
    "y_valid = y_valid / 100\n",
    "\n",
    "input_shape = [X_train.shape[1]]\n",
    "print(\"Input shape: {}\".format(input_shape))"
   ]
  },
  {
   "cell_type": "markdown",
   "id": "c3a8e109",
   "metadata": {
    "papermill": {
     "duration": 0.004652,
     "end_time": "2025-05-24T17:36:04.357418",
     "exception": false,
     "start_time": "2025-05-24T17:36:04.352766",
     "status": "completed"
    },
    "tags": []
   },
   "source": [
    "Let's start with the simplest network, a linear model. This model has low capacity.\n",
    "\n",
    "Run this next cell without any changes to train a linear model on the *Spotify* dataset."
   ]
  },
  {
   "cell_type": "code",
   "execution_count": 3,
   "id": "6142ef07",
   "metadata": {
    "execution": {
     "iopub.execute_input": "2025-05-24T17:36:04.370087Z",
     "iopub.status.busy": "2025-05-24T17:36:04.368793Z",
     "iopub.status.idle": "2025-05-24T17:36:12.008267Z",
     "shell.execute_reply": "2025-05-24T17:36:12.007076Z"
    },
    "lines_to_next_cell": 0,
    "papermill": {
     "duration": 7.64917,
     "end_time": "2025-05-24T17:36:12.011552",
     "exception": false,
     "start_time": "2025-05-24T17:36:04.362382",
     "status": "completed"
    },
    "tags": []
   },
   "outputs": [
    {
     "name": "stdout",
     "output_type": "stream",
     "text": [
      "Minimum Validation Loss: 0.2025\n"
     ]
    },
    {
     "data": {
      "image/png": "[encoded data removed]",
      "text/plain": [
       "<Figure size 640x480 with 1 Axes>"
      ]
     },
     "metadata": {},
     "output_type": "display_data"
    }
   ],
   "source": [
    "model = keras.Sequential([\n",
    "    layers.Dense(1, input_shape=input_shape),\n",
    "])\n",
    "model.compile(\n",
    "    optimizer='adam',\n",
    "    loss='mae',\n",
    ")\n",
    "history = model.fit(\n",
    "    X_train, y_train,\n",
    "    validation_data=(X_valid, y_valid),\n",
    "    batch_size=512,\n",
    "    epochs=50,\n",
    "    verbose=0, # suppress output since we'll plot the curves\n",
    ")\n",
    "history_df = pd.DataFrame(history.history)\n",
    "history_df.loc[0:, ['loss', 'val_loss']].plot()\n",
    "print(\"Minimum Validation Loss: {:0.4f}\".format(history_df['val_loss'].min()));"
   ]
  },
  {
   "cell_type": "markdown",
   "id": "5059c1f4",
   "metadata": {
    "papermill": {
     "duration": 0.006009,
     "end_time": "2025-05-24T17:36:12.023123",
     "exception": false,
     "start_time": "2025-05-24T17:36:12.017114",
     "status": "completed"
    },
    "tags": []
   },
   "source": [
    "It's not uncommon for the curves to follow a \"hockey stick\" pattern like you see here. This makes the final part of training hard to see, so let's start at epoch 10 instead:"
   ]
  },
  {
   "cell_type": "code",
   "execution_count": 4,
   "id": "a05df842",
   "metadata": {
    "execution": {
     "iopub.execute_input": "2025-05-24T17:36:12.036986Z",
     "iopub.status.busy": "2025-05-24T17:36:12.036556Z",
     "iopub.status.idle": "2025-05-24T17:36:12.381091Z",
     "shell.execute_reply": "2025-05-24T17:36:12.379509Z"
    },
    "papermill": {
     "duration": 0.354932,
     "end_time": "2025-05-24T17:36:12.384224",
     "exception": false,
     "start_time": "2025-05-24T17:36:12.029292",
     "status": "completed"
    },
    "tags": []
   },
   "outputs": [
    {
     "name": "stdout",
     "output_type": "stream",
     "text": [
      "Minimum Validation Loss: 0.2025\n"
     ]
    },
    {
     "data": {
      "image/png": "[encoded data removed]",
      "text/plain": [
       "<Figure size 640x480 with 1 Axes>"
      ]
     },
     "metadata": {},
     "output_type": "display_data"
    }
   ],
   "source": [
    "# Start the plot at epoch 10\n",
    "history_df.loc[10:, ['loss', 'val_loss']].plot()\n",
    "print(\"Minimum Validation Loss: {:0.4f}\".format(history_df['val_loss'].min()));"
   ]
  },
  {
   "cell_type": "markdown",
   "id": "190761e8",
   "metadata": {
    "papermill": {
     "duration": 0.006082,
     "end_time": "2025-05-24T17:36:12.396778",
     "exception": false,
     "start_time": "2025-05-24T17:36:12.390696",
     "status": "completed"
    },
    "tags": []
   },
   "source": [
    "# 1) Evaluate Baseline\n",
    "\n",
    "What do you think? Would you say this model is underfitting, overfitting, just right?"
   ]
  },
  {
   "cell_type": "code",
   "execution_count": 5,
   "id": "17ca78be",
   "metadata": {
    "execution": {
     "iopub.execute_input": "2025-05-24T17:36:12.412479Z",
     "iopub.status.busy": "2025-05-24T17:36:12.411537Z",
     "iopub.status.idle": "2025-05-24T17:36:12.421531Z",
     "shell.execute_reply": "2025-05-24T17:36:12.420312Z"
    },
    "papermill": {
     "duration": 0.02045,
     "end_time": "2025-05-24T17:36:12.423891",
     "exception": false,
     "start_time": "2025-05-24T17:36:12.403441",
     "status": "completed"
    },
    "tags": []
   },
   "outputs": [
    {
     "data": {
      "application/javascript": [
       "parent.postMessage({\"jupyterEvent\": \"custom.exercise_interaction\", \"data\": {\"outcomeType\": 1, \"valueTowardsCompletion\": 0.25, \"interactionType\": 1, \"questionType\": 4, \"questionId\": \"1_Q1\", \"learnToolsVersion\": \"0.3.4\", \"failureMessage\": \"\", \"exceptionClass\": \"\", \"trace\": \"\"}}, \"*\")"
      ],
      "text/plain": [
       "<IPython.core.display.Javascript object>"
      ]
     },
     "metadata": {},
     "output_type": "display_data"
    },
    {
     "data": {
      "text/markdown": [
       "<span style=\"color:#33cc33\">Correct:</span> \n",
       "\n",
       "The gap between these curves is quite small and the validation loss never increases, so it's more likely that the network is underfitting than overfitting. It would be worth experimenting with more capacity to see if that's the case."
      ],
      "text/plain": [
       "Correct: \n",
       "\n",
       "The gap between these curves is quite small and the validation loss never increases, so it's more likely that the network is underfitting than overfitting. It would be worth experimenting with more capacity to see if that's the case."
      ]
     },
     "metadata": {},
     "output_type": "display_data"
    }
   ],
   "source": [
    "# View the solution (Run this cell to receive credit!)\n",
    "q_1.check()"
   ]
  },
  {
   "cell_type": "markdown",
   "id": "858d77f8",
   "metadata": {
    "papermill": {
     "duration": 0.006147,
     "end_time": "2025-05-24T17:36:12.437259",
     "exception": false,
     "start_time": "2025-05-24T17:36:12.431112",
     "status": "completed"
    },
    "tags": []
   },
   "source": [
    "Now let's add some capacity to our network. We'll add three hidden layers with 128 units each. Run the next cell to train the network and see the learning curves."
   ]
  },
  {
   "cell_type": "code",
   "execution_count": 6,
   "id": "ea025c31",
   "metadata": {
    "execution": {
     "iopub.execute_input": "2025-05-24T17:36:12.451618Z",
     "iopub.status.busy": "2025-05-24T17:36:12.451240Z",
     "iopub.status.idle": "2025-05-24T17:36:24.989444Z",
     "shell.execute_reply": "2025-05-24T17:36:24.988231Z"
    },
    "papermill": {
     "duration": 12.548123,
     "end_time": "2025-05-24T17:36:24.991661",
     "exception": false,
     "start_time": "2025-05-24T17:36:12.443538",
     "status": "completed"
    },
    "tags": []
   },
   "outputs": [
    {
     "name": "stdout",
     "output_type": "stream",
     "text": [
      "Epoch 1/50\n",
      "48/48 [==============================] - 1s 8ms/step - loss: 0.2242 - val_loss: 0.2107\n",
      "Epoch 2/50\n",
      "48/48 [==============================] - 0s 5ms/step - loss: 0.1978 - val_loss: 0.2061\n",
      "Epoch 3/50\n",
      "48/48 [==============================] - 0s 4ms/step - loss: 0.1926 - val_loss: 0.2052\n",
      "Epoch 4/50\n",
      "48/48 [==============================] - 0s 5ms/step - loss: 0.1904 - val_loss: 0.2047\n",
      "Epoch 5/50\n",
      "48/48 [==============================] - 0s 5ms/step - loss: 0.1886 - val_loss: 0.2030\n",
      "Epoch 6/50\n",
      "48/48 [==============================] - 0s 5ms/step - loss: 0.1867 - val_loss: 0.2033\n",
      "Epoch 7/50\n",
      "48/48 [==============================] - 0s 5ms/step - loss: 0.1850 - val_loss: 0.2021\n",
      "Epoch 8/50\n",
      "48/48 [==============================] - 0s 4ms/step - loss: 0.1842 - val_loss: 0.2027\n",
      "Epoch 9/50\n",
      "48/48 [==============================] - 0s 5ms/step - loss: 0.1833 - val_loss: 0.2026\n",
      "Epoch 10/50\n",
      "48/48 [==============================] - 0s 5ms/step - loss: 0.1824 - val_loss: 0.2026\n",
      "Epoch 11/50\n",
      "48/48 [==============================] - 0s 5ms/step - loss: 0.1816 - val_loss: 0.2030\n",
      "Epoch 12/50\n",
      "48/48 [==============================] - 0s 5ms/step - loss: 0.1811 - val_loss: 0.2036\n",
      "Epoch 13/50\n",
      "48/48 [==============================] - 0s 5ms/step - loss: 0.1804 - val_loss: 0.2052\n",
      "Epoch 14/50\n",
      "48/48 [==============================] - 0s 5ms/step - loss: 0.1793 - val_loss: 0.2053\n",
      "Epoch 15/50\n",
      "48/48 [==============================] - 0s 5ms/step - loss: 0.1790 - val_loss: 0.2037\n",
      "Epoch 16/50\n",
      "48/48 [==============================] - 0s 4ms/step - loss: 0.1789 - val_loss: 0.2042\n",
      "Epoch 17/50\n",
      "48/48 [==============================] - 0s 4ms/step - loss: 0.1779 - val_loss: 0.2044\n",
      "Epoch 18/50\n",
      "48/48 [==============================] - 0s 4ms/step - loss: 0.1766 - val_loss: 0.2047\n",
      "Epoch 19/50\n",
      "48/48 [==============================] - 0s 5ms/step - loss: 0.1766 - val_loss: 0.2046\n",
      "Epoch 20/50\n",
      "48/48 [==============================] - 0s 5ms/step - loss: 0.1758 - val_loss: 0.2041\n",
      "Epoch 21/50\n",
      "48/48 [==============================] - 0s 5ms/step - loss: 0.1752 - val_loss: 0.2046\n",
      "Epoch 22/50\n",
      "48/48 [==============================] - 0s 4ms/step - loss: 0.1746 - val_loss: 0.2056\n",
      "Epoch 23/50\n",
      "48/48 [==============================] - 0s 5ms/step - loss: 0.1741 - val_loss: 0.2042\n",
      "Epoch 24/50\n",
      "48/48 [==============================] - 0s 5ms/step - loss: 0.1737 - val_loss: 0.2065\n",
      "Epoch 25/50\n",
      "48/48 [==============================] - 0s 4ms/step - loss: 0.1739 - val_loss: 0.2059\n",
      "Epoch 26/50\n",
      "48/48 [==============================] - 0s 5ms/step - loss: 0.1730 - val_loss: 0.2066\n",
      "Epoch 27/50\n",
      "48/48 [==============================] - 0s 5ms/step - loss: 0.1719 - val_loss: 0.2063\n",
      "Epoch 28/50\n",
      "48/48 [==============================] - 0s 5ms/step - loss: 0.1716 - val_loss: 0.2065\n",
      "Epoch 29/50\n",
      "48/48 [==============================] - 0s 4ms/step - loss: 0.1721 - val_loss: 0.2073\n",
      "Epoch 30/50\n",
      "48/48 [==============================] - 0s 5ms/step - loss: 0.1711 - val_loss: 0.2058\n",
      "Epoch 31/50\n",
      "48/48 [==============================] - 0s 5ms/step - loss: 0.1713 - val_loss: 0.2068\n",
      "Epoch 32/50\n",
      "48/48 [==============================] - 0s 5ms/step - loss: 0.1698 - val_loss: 0.2065\n",
      "Epoch 33/50\n",
      "48/48 [==============================] - 0s 5ms/step - loss: 0.1694 - val_loss: 0.2070\n",
      "Epoch 34/50\n",
      "48/48 [==============================] - 0s 5ms/step - loss: 0.1694 - val_loss: 0.2064\n",
      "Epoch 35/50\n",
      "48/48 [==============================] - 0s 5ms/step - loss: 0.1687 - val_loss: 0.2074\n",
      "Epoch 36/50\n",
      "48/48 [==============================] - 0s 5ms/step - loss: 0.1686 - val_loss: 0.2063\n",
      "Epoch 37/50\n",
      "48/48 [==============================] - 0s 4ms/step - loss: 0.1678 - val_loss: 0.2081\n",
      "Epoch 38/50\n",
      "48/48 [==============================] - 0s 4ms/step - loss: 0.1678 - val_loss: 0.2092\n",
      "Epoch 39/50\n",
      "48/48 [==============================] - 0s 4ms/step - loss: 0.1676 - val_loss: 0.2082\n",
      "Epoch 40/50\n",
      "48/48 [==============================] - 0s 5ms/step - loss: 0.1670 - val_loss: 0.2080\n",
      "Epoch 41/50\n",
      "48/48 [==============================] - 0s 4ms/step - loss: 0.1664 - val_loss: 0.2082\n",
      "Epoch 42/50\n",
      "48/48 [==============================] - 0s 4ms/step - loss: 0.1664 - val_loss: 0.2095\n",
      "Epoch 43/50\n",
      "48/48 [==============================] - 0s 5ms/step - loss: 0.1663 - val_loss: 0.2093\n",
      "Epoch 44/50\n",
      "48/48 [==============================] - 0s 5ms/step - loss: 0.1651 - val_loss: 0.2093\n",
      "Epoch 45/50\n",
      "48/48 [==============================] - 0s 5ms/step - loss: 0.1651 - val_loss: 0.2092\n",
      "Epoch 46/50\n",
      "48/48 [==============================] - 0s 5ms/step - loss: 0.1641 - val_loss: 0.2093\n",
      "Epoch 47/50\n",
      "48/48 [==============================] - 0s 5ms/step - loss: 0.1649 - val_loss: 0.2080\n",
      "Epoch 48/50\n",
      "48/48 [==============================] - 0s 4ms/step - loss: 0.1658 - val_loss: 0.2086\n",
      "Epoch 49/50\n",
      "48/48 [==============================] - 0s 5ms/step - loss: 0.1638 - val_loss: 0.2109\n",
      "Epoch 50/50\n",
      "48/48 [==============================] - 0s 5ms/step - loss: 0.1632 - val_loss: 0.2092\n",
      "Minimum Validation Loss: 0.2021\n"
     ]
    },
    {
     "data": {
      "image/png": "[encoded data removed]",
      "text/plain": [
       "<Figure size 640x480 with 1 Axes>"
      ]
     },
     "metadata": {},
     "output_type": "display_data"
    }
   ],
   "source": [
    "model = keras.Sequential([\n",
    "    layers.Dense(128, activation='relu', input_shape=input_shape),\n",
    "    layers.Dense(64, activation='relu'),\n",
    "    layers.Dense(1)\n",
    "])\n",
    "model.compile(\n",
    "    optimizer='adam',\n",
    "    loss='mae',\n",
    ")\n",
    "history = model.fit(\n",
    "    X_train, y_train,\n",
    "    validation_data=(X_valid, y_valid),\n",
    "    batch_size=512,\n",
    "    epochs=50,\n",
    ")\n",
    "history_df = pd.DataFrame(history.history)\n",
    "history_df.loc[:, ['loss', 'val_loss']].plot()\n",
    "print(\"Minimum Validation Loss: {:0.4f}\".format(history_df['val_loss'].min()));"
   ]
  },
  {
   "cell_type": "markdown",
   "id": "e240519b",
   "metadata": {
    "papermill": {
     "duration": 0.024504,
     "end_time": "2025-05-24T17:36:25.038800",
     "exception": false,
     "start_time": "2025-05-24T17:36:25.014296",
     "status": "completed"
    },
    "tags": []
   },
   "source": [
    "# 2) Add Capacity\n",
    "\n",
    "What is your evaluation of these curves? Underfitting, overfitting, just right?"
   ]
  },
  {
   "cell_type": "code",
   "execution_count": 7,
   "id": "e56b2a7c",
   "metadata": {
    "execution": {
     "iopub.execute_input": "2025-05-24T17:36:25.085235Z",
     "iopub.status.busy": "2025-05-24T17:36:25.084862Z",
     "iopub.status.idle": "2025-05-24T17:36:25.093501Z",
     "shell.execute_reply": "2025-05-24T17:36:25.092414Z"
    },
    "papermill": {
     "duration": 0.034893,
     "end_time": "2025-05-24T17:36:25.095795",
     "exception": false,
     "start_time": "2025-05-24T17:36:25.060902",
     "status": "completed"
    },
    "tags": []
   },
   "outputs": [
    {
     "data": {
      "application/javascript": [
       "parent.postMessage({\"jupyterEvent\": \"custom.exercise_interaction\", \"data\": {\"outcomeType\": 1, \"valueTowardsCompletion\": 0.25, \"interactionType\": 1, \"questionType\": 4, \"questionId\": \"2_Q2\", \"learnToolsVersion\": \"0.3.4\", \"failureMessage\": \"\", \"exceptionClass\": \"\", \"trace\": \"\"}}, \"*\")"
      ],
      "text/plain": [
       "<IPython.core.display.Javascript object>"
      ]
     },
     "metadata": {},
     "output_type": "display_data"
    },
    {
     "data": {
      "text/markdown": [
       "<span style=\"color:#33cc33\">Correct:</span> \n",
       "\n",
       "Now the validation loss begins to rise very early, while the training loss continues to decrease. This indicates that the network has begun to overfit. At this point, we would need to try something to prevent it, either by reducing the number of units or through a method like early stopping. (We'll see another in the next lesson!)"
      ],
      "text/plain": [
       "Correct: \n",
       "\n",
       "Now the validation loss begins to rise very early, while the training loss continues to decrease. This indicates that the network has begun to overfit. At this point, we would need to try something to prevent it, either by reducing the number of units or through a method like early stopping. (We'll see another in the next lesson!)"
      ]
     },
     "metadata": {},
     "output_type": "display_data"
    }
   ],
   "source": [
    "# View the solution (Run this cell to receive credit!)\n",
    "q_2.check()"
   ]
  },
  {
   "cell_type": "markdown",
   "id": "5da4d2ad",
   "metadata": {
    "papermill": {
     "duration": 0.023327,
     "end_time": "2025-05-24T17:36:25.141490",
     "exception": false,
     "start_time": "2025-05-24T17:36:25.118163",
     "status": "completed"
    },
    "tags": []
   },
   "source": [
    "# 3) Define Early Stopping Callback\n",
    "\n",
    "Now define an early stopping callback that waits 5 epochs (`patience'`) for a change in validation loss of at least `0.001` (`min_delta`) and keeps the weights with the best loss (`restore_best_weights`)."
   ]
  },
  {
   "cell_type": "code",
   "execution_count": 8,
   "id": "0dacac2a",
   "metadata": {
    "execution": {
     "iopub.execute_input": "2025-05-24T17:36:25.189575Z",
     "iopub.status.busy": "2025-05-24T17:36:25.189214Z",
     "iopub.status.idle": "2025-05-24T17:36:25.198897Z",
     "shell.execute_reply": "2025-05-24T17:36:25.197824Z"
    },
    "lines_to_next_cell": 0,
    "papermill": {
     "duration": 0.036108,
     "end_time": "2025-05-24T17:36:25.201222",
     "exception": false,
     "start_time": "2025-05-24T17:36:25.165114",
     "status": "completed"
    },
    "tags": []
   },
   "outputs": [
    {
     "data": {
      "application/javascript": [
       "parent.postMessage({\"jupyterEvent\": \"custom.exercise_interaction\", \"data\": {\"outcomeType\": 1, \"valueTowardsCompletion\": 0.25, \"interactionType\": 1, \"questionType\": 2, \"questionId\": \"3_Q3\", \"learnToolsVersion\": \"0.3.4\", \"failureMessage\": \"\", \"exceptionClass\": \"\", \"trace\": \"\"}}, \"*\")"
      ],
      "text/plain": [
       "<IPython.core.display.Javascript object>"
      ]
     },
     "metadata": {},
     "output_type": "display_data"
    },
    {
     "data": {
      "text/markdown": [
       "<span style=\"color:#33cc33\">Correct</span>"
      ],
      "text/plain": [
       "Correct"
      ]
     },
     "metadata": {},
     "output_type": "display_data"
    }
   ],
   "source": [
    "from tensorflow.keras import callbacks\n",
    "\n",
    "# YOUR CODE HERE: define an early stopping callback\n",
    "early_stopping = callbacks.EarlyStopping(\n",
    "    patience=5,\n",
    "    min_delta=0.001,\n",
    "    restore_best_weights=True\n",
    ")\n",
    "\n",
    "# Check your answer\n",
    "q_3.check()"
   ]
  },
  {
   "cell_type": "code",
   "execution_count": 9,
   "id": "3f6df4cb",
   "metadata": {
    "execution": {
     "iopub.execute_input": "2025-05-24T17:36:25.247787Z",
     "iopub.status.busy": "2025-05-24T17:36:25.247371Z",
     "iopub.status.idle": "2025-05-24T17:36:25.252307Z",
     "shell.execute_reply": "2025-05-24T17:36:25.251085Z"
    },
    "papermill": {
     "duration": 0.031167,
     "end_time": "2025-05-24T17:36:25.254800",
     "exception": false,
     "start_time": "2025-05-24T17:36:25.223633",
     "status": "completed"
    },
    "tags": []
   },
   "outputs": [],
   "source": [
    "# Lines below will give you a hint or solution code\n",
    "#q_3.hint()\n",
    "#q_3.solution()"
   ]
  },
  {
   "cell_type": "markdown",
   "id": "8344b6b7",
   "metadata": {
    "papermill": {
     "duration": 0.021946,
     "end_time": "2025-05-24T17:36:25.299058",
     "exception": false,
     "start_time": "2025-05-24T17:36:25.277112",
     "status": "completed"
    },
    "tags": []
   },
   "source": [
    "Now run this cell to train the model and get the learning curves. Notice the `callbacks` argument in `model.fit`."
   ]
  },
  {
   "cell_type": "code",
   "execution_count": 10,
   "id": "38484be9",
   "metadata": {
    "execution": {
     "iopub.execute_input": "2025-05-24T17:36:25.346428Z",
     "iopub.status.busy": "2025-05-24T17:36:25.346074Z",
     "iopub.status.idle": "2025-05-24T17:36:29.433347Z",
     "shell.execute_reply": "2025-05-24T17:36:29.432082Z"
    },
    "papermill": {
     "duration": 4.114107,
     "end_time": "2025-05-24T17:36:29.435973",
     "exception": false,
     "start_time": "2025-05-24T17:36:25.321866",
     "status": "completed"
    },
    "tags": []
   },
   "outputs": [
    {
     "name": "stdout",
     "output_type": "stream",
     "text": [
      "Epoch 1/50\n",
      "48/48 [==============================] - 1s 8ms/step - loss: 0.2783 - val_loss: 0.2152\n",
      "Epoch 2/50\n",
      "48/48 [==============================] - 0s 5ms/step - loss: 0.2015 - val_loss: 0.2084\n",
      "Epoch 3/50\n",
      "48/48 [==============================] - 0s 5ms/step - loss: 0.1963 - val_loss: 0.2063\n",
      "Epoch 4/50\n",
      "48/48 [==============================] - 0s 5ms/step - loss: 0.1932 - val_loss: 0.2044\n",
      "Epoch 5/50\n",
      "48/48 [==============================] - 0s 5ms/step - loss: 0.1910 - val_loss: 0.2037\n",
      "Epoch 6/50\n",
      "48/48 [==============================] - 0s 5ms/step - loss: 0.1893 - val_loss: 0.2035\n",
      "Epoch 7/50\n",
      "48/48 [==============================] - 0s 4ms/step - loss: 0.1884 - val_loss: 0.2029\n",
      "Epoch 8/50\n",
      "48/48 [==============================] - 0s 4ms/step - loss: 0.1872 - val_loss: 0.2013\n",
      "Epoch 9/50\n",
      "48/48 [==============================] - 0s 4ms/step - loss: 0.1862 - val_loss: 0.2016\n",
      "Epoch 10/50\n",
      "48/48 [==============================] - 0s 5ms/step - loss: 0.1851 - val_loss: 0.2020\n",
      "Epoch 11/50\n",
      "48/48 [==============================] - 0s 5ms/step - loss: 0.1843 - val_loss: 0.2010\n",
      "Epoch 12/50\n",
      "48/48 [==============================] - 0s 4ms/step - loss: 0.1836 - val_loss: 0.2028\n",
      "Epoch 13/50\n",
      "48/48 [==============================] - 0s 4ms/step - loss: 0.1831 - val_loss: 0.2020\n",
      "Minimum Validation Loss: 0.2010\n"
     ]
    },
    {
     "data": {
      "image/png": "[encoded data removed]",
      "text/plain": [
       "<Figure size 640x480 with 1 Axes>"
      ]
     },
     "metadata": {},
     "output_type": "display_data"
    }
   ],
   "source": [
    "model = keras.Sequential([\n",
    "    layers.Dense(128, activation='relu', input_shape=input_shape),\n",
    "    layers.Dense(64, activation='relu'),    \n",
    "    layers.Dense(1)\n",
    "])\n",
    "model.compile(\n",
    "    optimizer='adam',\n",
    "    loss='mae',\n",
    ")\n",
    "history = model.fit(\n",
    "    X_train, y_train,\n",
    "    validation_data=(X_valid, y_valid),\n",
    "    batch_size=512,\n",
    "    epochs=50,\n",
    "    callbacks=[early_stopping]\n",
    ")\n",
    "history_df = pd.DataFrame(history.history)\n",
    "history_df.loc[:, ['loss', 'val_loss']].plot()\n",
    "print(\"Minimum Validation Loss: {:0.4f}\".format(history_df['val_loss'].min()));"
   ]
  },
  {
   "cell_type": "markdown",
   "id": "b9f4083e",
   "metadata": {
    "papermill": {
     "duration": 0.027558,
     "end_time": "2025-05-24T17:36:29.493132",
     "exception": false,
     "start_time": "2025-05-24T17:36:29.465574",
     "status": "completed"
    },
    "tags": []
   },
   "source": [
    "# 4) Train and Interpret\n",
    "\n",
    "Was this an improvement compared to training without early stopping?"
   ]
  },
  {
   "cell_type": "code",
   "execution_count": 11,
   "id": "1b2115ca",
   "metadata": {
    "execution": {
     "iopub.execute_input": "2025-05-24T17:36:29.549611Z",
     "iopub.status.busy": "2025-05-24T17:36:29.549202Z",
     "iopub.status.idle": "2025-05-24T17:36:29.557903Z",
     "shell.execute_reply": "2025-05-24T17:36:29.556737Z"
    },
    "papermill": {
     "duration": 0.040015,
     "end_time": "2025-05-24T17:36:29.560341",
     "exception": false,
     "start_time": "2025-05-24T17:36:29.520326",
     "status": "completed"
    },
    "tags": []
   },
   "outputs": [
    {
     "data": {
      "application/javascript": [
       "parent.postMessage({\"jupyterEvent\": \"custom.exercise_interaction\", \"data\": {\"outcomeType\": 1, \"valueTowardsCompletion\": 0.25, \"interactionType\": 1, \"questionType\": 4, \"questionId\": \"4_Q4\", \"learnToolsVersion\": \"0.3.4\", \"failureMessage\": \"\", \"exceptionClass\": \"\", \"trace\": \"\"}}, \"*\")"
      ],
      "text/plain": [
       "<IPython.core.display.Javascript object>"
      ]
     },
     "metadata": {},
     "output_type": "display_data"
    },
    {
     "data": {
      "text/markdown": [
       "<span style=\"color:#33cc33\">Correct:</span> \n",
       "\n",
       "The early stopping callback did stop the training once the network began overfitting. Moreover, by including `restore_best_weights` we still get to keep the model where validation loss was lowest."
      ],
      "text/plain": [
       "Correct: \n",
       "\n",
       "The early stopping callback did stop the training once the network began overfitting. Moreover, by including `restore_best_weights` we still get to keep the model where validation loss was lowest."
      ]
     },
     "metadata": {},
     "output_type": "display_data"
    }
   ],
   "source": [
    "# View the solution (Run this cell to receive credit!)\n",
    "q_4.check()"
   ]
  },
  {
   "cell_type": "markdown",
   "id": "85831bd3",
   "metadata": {
    "papermill": {
     "duration": 0.03135,
     "end_time": "2025-05-24T17:36:29.620873",
     "exception": false,
     "start_time": "2025-05-24T17:36:29.589523",
     "status": "completed"
    },
    "tags": []
   },
   "source": [
    "If you like, try experimenting with `patience` and `min_delta` to see what difference it might make.\n",
    "\n",
    "# Keep Going #\n",
    "\n",
    "Move on to [**learn about a couple of special layers**](https://www.kaggle.com/ryanholbrook/dropout-and-batch-normalization): batch normalization and dropout."
   ]
  },
  {
   "cell_type": "markdown",
   "id": "819863d8",
   "metadata": {
    "papermill": {
     "duration": 0.028815,
     "end_time": "2025-05-24T17:36:29.678368",
     "exception": false,
     "start_time": "2025-05-24T17:36:29.649553",
     "status": "completed"
    },
    "tags": []
   },
   "source": [
    "---\n",
    "\n",
    "\n",
    "\n",
    "\n",
    "*Have questions or comments? Visit the [course discussion forum](https://www.kaggle.com/learn/intro-to-deep-learning/discussion) to chat with other learners.*"
   ]
  }
 ],
 "metadata": {
  "jupytext": {
   "cell_metadata_filter": "-all",
   "formats": "ipynb"
  },
  "kaggle": {
   "accelerator": "gpu",
   "dataSources": [
    {
     "datasetId": 829369,
     "sourceId": 1480608,
     "sourceType": "datasetVersion"
    }
   ],
   "dockerImageVersionId": 30648,
   "isGpuEnabled": true,
   "isInternetEnabled": false,
   "language": "python",
   "sourceType": "notebook"
  },
  "kernelspec": {
   "display_name": "Python 3",
   "language": "python",
   "name": "python3"
  },
  "language_info": {
   "codemirror_mode": {
    "name": "ipython",
    "version": 3
   },
   "file_extension": ".py",
   "mimetype": "text/x-python",
   "name": "python",
   "nbconvert_exporter": "python",
   "pygments_lexer": "ipython3",
   "version": "3.10.13"
  },
  "papermill": {
   "default_parameters": {},
   "duration": 51.814074,
   "end_time": "2025-05-24T17:36:32.033740",
   "environment_variables": {},
   "exception": null,
   "input_path": "__notebook__.ipynb",
   "output_path": "__notebook__.ipynb",
   "parameters": {},
   "start_time": "2025-05-24T17:35:40.219666",
   "version": "2.5.0"
  }
 },
 "nbformat": 4,
 "nbformat_minor": 5
}
